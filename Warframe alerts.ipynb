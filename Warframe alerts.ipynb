{
 "cells": [
  {
   "cell_type": "markdown",
   "metadata": {},
   "source": [
    "# Warframe alerts web scrape"
   ]
  },
  {
   "cell_type": "code",
   "execution_count": 4,
   "metadata": {},
   "outputs": [],
   "source": [
    "# Server connection to MySQL:\n",
    "import MySQLdb\n",
    "conn = MySQLdb.connect(host= \"localhost\",\n",
    "                  user=\"yourusername\",\n",
    "                  passwd=\"yourpassword\",\n",
    "                  db=\"warframe\")\n",
    "\n",
    "x = conn.cursor()\n",
    "\n",
    "# Create table for alerts\n",
    "try:\n",
    "    x.execute(\n",
    "    \"\"\"\n",
    "    CREATE TABLE IF NOT EXISTS ALERTS (\n",
    "    TIME DATETIME,\n",
    "    DESTINATION CHAR(50),\n",
    "    DESTINATION_PLANET CHAR(50),\n",
    "    CREDITS INT DEFAULT NULL,\n",
    "    LOOT_TYPE CHAR(50) DEFAULT NULL,\n",
    "    LOOT CHAR(50))\n",
    "    \"\"\")\n",
    "    conn.commit()\n",
    "except:\n",
    "    conn.rollback()"
   ]
  },
  {
   "cell_type": "code",
   "execution_count": 39,
   "metadata": {},
   "outputs": [],
   "source": [
    "# Web scraping\n",
    "from bs4 import BeautifulSoup\n",
    "import requests\n",
    "import re\n",
    "\n",
    "response = requests.get(\"https://raidtime.net/en/game/tool/warframe/alarm\")\n",
    "url = response.url\n",
    "soup = BeautifulSoup(response.content, \"lxml\")\n",
    "\n",
    "# Get max pages\n",
    "max_pages = int(re.search(\"\\d+\", soup.findAll(class_ = \"btn btn-default\")[-1][\"title\"]).group(0))"
   ]
  },
  {
   "cell_type": "code",
   "execution_count": 16,
   "metadata": {},
   "outputs": [],
   "source": [
    "def scrape_page(soup):\n",
    "    for i in range(len(soup.tbody.findAll('tr'))):\n",
    "        # Alert time\n",
    "        alert_time = soup.tbody.findAll('tr')[i].find(class_ = \"warframe-countdown\")['data-source']\n",
    "        alert_time = str(datetime.strptime(alert_time, \"%Y-%m-%dT%H:%M:%S+%f\"))\n",
    "\n",
    "        # Alert destination\n",
    "        destination = \"\".join(soup.tbody.findAll('tr')[i].find(class_ = \"alternative\").stripped_strings)\n",
    "        # Split by space followed by ( or ending with )\n",
    "        alert_destination = re.split(' \\(|\\)', destination)[0]\n",
    "        alert_destination_planet = re.split(' \\(|\\)', destination)[1]\n",
    "\n",
    "        # Check if there is a credit reward\n",
    "        if (\"\".join(soup.tbody.findAll('tr')[i].findAll('td')[1].stripped_strings) == \"?\"):\n",
    "            alert_credits = None\n",
    "        else:\n",
    "            alert_credits = int(\"\".join(soup.tbody.findAll('tr')[i].findAll('td')[1].stripped_strings).replace(\",\", \"\"))\n",
    "\n",
    "        # Check if there is loot\n",
    "        if (soup.tbody.findAll('tr')[i].findAll('td')[2].find(class_ = \"tag\")):\n",
    "            alert_loot_type = soup.tbody.findAll('tr')[i].findAll('td')[2].find(class_ = \"tag\").get_text()\n",
    "        else:\n",
    "            alert_loot_type = None\n",
    "        if (soup.tbody.findAll('tr')[i].findAll('td')[2].find(class_ = \"alternative\")):\n",
    "            alert_loot = \"\".join(soup.tbody.findAll('tr')[i].findAll('td')[2].find(class_ = \"alternative\").stripped_strings)\n",
    "        else:\n",
    "            alert_loot = None\n",
    "\n",
    "        # Insert into MySQL database 'warframe', table 'alerts'\n",
    "        try:\n",
    "            x.execute(\n",
    "            \"\"\"\n",
    "            INSERT INTO alerts (time, destination, destination_planet, credits, loot_type, loot)\n",
    "            VALUES (%s, %s, %s, %s, %s, %s)\n",
    "            \"\"\", [alert_time, alert_destination, alert_destination_planet, alert_credits, alert_loot_type, alert_loot])\n",
    "            conn.commit()\n",
    "        except:\n",
    "            conn.rollback()\n",
    "    "
   ]
  },
  {
   "cell_type": "code",
   "execution_count": 54,
   "metadata": {
    "scrolled": true
   },
   "outputs": [],
   "source": [
    "# Deletes all rows, FOR TESTING ONLY\n",
    "x.execute(\"DELETE FROM alerts\")\n",
    "conn.commit()"
   ]
  },
  {
   "cell_type": "code",
   "execution_count": 3,
   "metadata": {},
   "outputs": [],
   "source": [
    "# Loop\n",
    "for j in range(max_pages):\n",
    "    response = requests.get(url + \"/\" + str(j+1))\n",
    "    soup = BeautifulSoup(response.content, \"lxml\")\n",
    "    scrape_page(soup)"
   ]
  }
 ],
 "metadata": {
  "kernelspec": {
   "display_name": "Python 3",
   "language": "python",
   "name": "python3"
  },
  "language_info": {
   "codemirror_mode": {
    "name": "ipython",
    "version": 3
   },
   "file_extension": ".py",
   "mimetype": "text/x-python",
   "name": "python",
   "nbconvert_exporter": "python",
   "pygments_lexer": "ipython3",
   "version": "3.6.5"
  }
 },
 "nbformat": 4,
 "nbformat_minor": 2
}
